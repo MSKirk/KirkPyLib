{
 "cells": [
  {
   "cell_type": "markdown",
   "metadata": {},
   "source": [
    "# Google Data Project"
   ]
  },
  {
   "cell_type": "code",
   "execution_count": 29,
   "metadata": {
    "collapsed": true
   },
   "outputs": [],
   "source": [
    "import numpy as np           \n",
    "import matplotlib.pyplot as plt\n",
    "from scipy import signal\n",
    "import os\n",
    "import fnmatch\n",
    "import astropy.units as u\n",
    "from astropy.time import Time\n",
    "from sunpy.time import parse_time\n",
    "from astropy.table import Table\n",
    "import pandas as pd\n",
    "import matplotlib\n",
    "%matplotlib inline  "
   ]
  },
  {
   "cell_type": "markdown",
   "metadata": {
    "collapsed": true
   },
   "source": [
    "Import the data from files: "
   ]
  },
  {
   "cell_type": "code",
   "execution_count": 30,
   "metadata": {
    "collapsed": false
   },
   "outputs": [],
   "source": [
    "import DataCenterImport as DC\n",
    "dat=DC.DataCenter('/Volumes/DataDisk/GoogleData/')"
   ]
  },
  {
   "cell_type": "markdown",
   "metadata": {},
   "source": [
    "Alternatively, to reload the data:"
   ]
  },
  {
   "cell_type": "code",
   "execution_count": 105,
   "metadata": {
    "collapsed": true
   },
   "outputs": [],
   "source": [
    "import importlib\n",
    "importlib.reload(DC)\n",
    "dat=DC.DataCenter('/Volumes/DataDisk/GoogleData/')"
   ]
  },
  {
   "cell_type": "markdown",
   "metadata": {},
   "source": [
    "Reads and provides data sets for analysis:\n",
    "            site_info - table of information for each site;\n",
    "            nmdb_set - Neutron Monitor Database;\n",
    "            error_set - Error rate of data center;\n",
    "            wx_set - weather info for each data center;\n",
    "            goes_set - P7 high energy particle flux information;"
   ]
  },
  {
   "cell_type": "markdown",
   "metadata": {},
   "source": [
    "Compute average error for each building"
   ]
  },
  {
   "cell_type": "code",
   "execution_count": 42,
   "metadata": {
    "collapsed": false
   },
   "outputs": [],
   "source": [
    "error_ave = np.array([np.mean(dat.error_set['rate'][dat.error_set['loc_id'] == idnum]) for idnum in dat.site_info['ID']])\n",
    "error_std = np.array([np.std(dat.error_set['rate'][dat.error_set['loc_id'] == idnum]) for idnum in dat.site_info['ID']])"
   ]
  },
  {
   "cell_type": "markdown",
   "metadata": {},
   "source": [
    "plot error rate vs altitude "
   ]
  },
  {
   "cell_type": "code",
   "execution_count": 43,
   "metadata": {
    "collapsed": false
   },
   "outputs": [
    {
     "data": {
      "image/png": "[encoded data removed]",
      "text/plain": [
       "<matplotlib.figure.Figure at 0x1144810f0>"
      ]
     },
     "metadata": {},
     "output_type": "display_data"
    }
   ],
   "source": [
    "ax = plt.subplot(111)\n",
    "ax.set_yscale(\"log\", nonposy='clip')\n",
    "\n",
    "plt.errorbar(dat.site_info['Altitude'], error_ave, yerr=error_std,fmt='.')\n",
    "ax.set_xlabel('Altitude (m)')\n",
    "ax.set_ylabel('Log Error Rate (errors/Gb)')\n",
    "ax.set_title('Average Error Rate vs. Altitude')\n",
    "plt.tight_layout()\n"
   ]
  },
  {
   "cell_type": "markdown",
   "metadata": {},
   "source": [
    "Create a date range for each center id:"
   ]
  },
  {
   "cell_type": "code",
   "execution_count": 44,
   "metadata": {
    "collapsed": true
   },
   "outputs": [],
   "source": [
    "tbegin=[np.min(dat.error_set.index[dat.error_set['loc_id'] == idnum]) for idnum in dat.site_info['ID']]\n",
    "tend=[np.max(dat.error_set.index[dat.error_set['loc_id'] == idnum]) for idnum in dat.site_info['ID']]"
   ]
  },
  {
   "cell_type": "markdown",
   "metadata": {},
   "source": [
    "For each data center site, resample to 5 minute interval between the beginning and ending date of the error date. Linear interpolation over NAN's generated by upsampling. In this case the id_index is a list of cite id numbers."
   ]
  },
  {
   "cell_type": "code",
   "execution_count": 113,
   "metadata": {
    "collapsed": false
   },
   "outputs": [],
   "source": [
    "id_index = 32 ## 0 to 32\n",
    "errors=dat.error_set.where(dat.error_set['loc_id'] == dat.site_info['ID'][id_index]).dropna().resample(\n",
    "    '5T').interpolate(method='linear')[tbegin[id_index]:tend[id_index]]\n",
    "\n",
    "wx=dat.wx_set.where(dat.wx_set['loc_id'] == dat.site_info['ID'][id_index]).dropna().resample('5T').interpolate(\n",
    "    method='linear')[tbegin[id_index]:tend[id_index]]\n",
    "\n",
    "goes=dat.goes_set.resample('5T').interpolate(method='linear')[tbegin[id_index]:tend[id_index]]\n",
    "\n",
    "nmdb=dat.nmdb_set.resample('5T').interpolate(method='linear')[tbegin[id_index]:tend[id_index]]\n"
   ]
  },
  {
   "cell_type": "code",
   "execution_count": null,
   "metadata": {
    "collapsed": false
   },
   "outputs": [],
   "source": []
  },
  {
   "cell_type": "code",
   "execution_count": null,
   "metadata": {
    "collapsed": true
   },
   "outputs": [],
   "source": []
  }
 ],
 "metadata": {
  "anaconda-cloud": {},
  "kernelspec": {
   "display_name": "Python [conda root]",
   "language": "python",
   "name": "conda-root-py"
  },
  "language_info": {
   "codemirror_mode": {
    "name": "ipython",
    "version": 3
   },
   "file_extension": ".py",
   "mimetype": "text/x-python",
   "name": "python",
   "nbconvert_exporter": "python",
   "pygments_lexer": "ipython3",
   "version": "3.5.2"
  }
 },
 "nbformat": 4,
 "nbformat_minor": 0
}
