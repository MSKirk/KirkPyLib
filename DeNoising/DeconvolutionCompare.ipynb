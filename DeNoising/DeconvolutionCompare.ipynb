{
 "cells": [
  {
   "cell_type": "code",
   "execution_count": 3,
   "metadata": {
    "collapsed": true
   },
   "outputs": [
    {
     "ename": "SyntaxError",
     "evalue": "invalid syntax (<ipython-input-3-6168066f4e78>, line 3)",
     "traceback": [
      "\u001b[0;36m  File \u001b[0;32m\"<ipython-input-3-6168066f4e78>\"\u001b[0;36m, line \u001b[0;32m3\u001b[0m\n\u001b[0;31m    cd '/Users/mskirk/py/lib/DeNoising'\u001b[0m\n\u001b[0m                                      ^\u001b[0m\n\u001b[0;31mSyntaxError\u001b[0m\u001b[0;31m:\u001b[0m invalid syntax\n"
     ],
     "output_type": "error"
    }
   ],
   "source": [
    "import matplotlib as plt\n",
    "import sunpy.map as map\n",
    "cd '/Users/mskirk/py/lib/DeNoising'\n",
    "import AIA_pipeline"
   ]
  },
  {
   "cell_type": "code",
   "execution_count": 4,
   "metadata": {},
   "outputs": [
    {
     "ename": "AttributeError",
     "evalue": "type object 'map' has no attribute 'Map'",
     "traceback": [
      "\u001b[0;31m---------------------------------------------------------------------------\u001b[0m",
      "\u001b[0;31mAttributeError\u001b[0m                            Traceback (most recent call last)",
      "\u001b[0;32m<ipython-input-4-bbd5cdab7b1f>\u001b[0m in \u001b[0;36m<module>\u001b[0;34m()\u001b[0m\n\u001b[0;32m----> 1\u001b[0;31m \u001b[0mIM\u001b[0m \u001b[0;34m=\u001b[0m \u001b[0mmap\u001b[0m\u001b[0;34m.\u001b[0m\u001b[0mMap\u001b[0m\u001b[0;34m(\u001b[0m\u001b[0;34m'/Volumes/DataDisk/AIA/test_lvl1_94.fits'\u001b[0m\u001b[0;34m)\u001b[0m\u001b[0;34m\u001b[0m\u001b[0m\n\u001b[0m\u001b[1;32m      2\u001b[0m \u001b[0mRL\u001b[0m \u001b[0;34m=\u001b[0m \u001b[0mmap\u001b[0m\u001b[0;34m.\u001b[0m\u001b[0mMap\u001b[0m\u001b[0;34m(\u001b[0m\u001b[0;34m'/Volumes/DataDisk/AIA/test_RL_94.fits'\u001b[0m\u001b[0;34m)\u001b[0m\u001b[0;34m\u001b[0m\u001b[0m\n\u001b[1;32m      3\u001b[0m \u001b[0mWH\u001b[0m \u001b[0;34m=\u001b[0m \u001b[0mmap\u001b[0m\u001b[0;34m.\u001b[0m\u001b[0mMap\u001b[0m\u001b[0;34m(\u001b[0m\u001b[0;34m'/Volumes/DataDisk/AIA/test_WH_94.fits'\u001b[0m\u001b[0;34m)\u001b[0m\u001b[0;34m\u001b[0m\u001b[0m\n",
      "\u001b[0;31mAttributeError\u001b[0m: type object 'map' has no attribute 'Map'"
     ],
     "output_type": "error"
    }
   ],
   "source": [
    "IM = map.Map('/Volumes/DataDisk/AIA/test_lvl1_94.fits')\n",
    "RL = map.Map('/Volumes/DataDisk/AIA/test_RL_94.fits')\n",
    "WH = map.Map('/Volumes/DataDisk/AIA/test_WH_94.fits')"
   ]
  },
  {
   "cell_type": "code",
   "execution_count": null,
   "metadata": {},
   "outputs": [],
   "source": [
    "plt.hist((IM.data-RL.data).ravel(), bins=200, range=(-10,10), alpha=0.75)\n",
    "plt.hist((IM.data-WH.data).ravel(), bins=200, range=(-10,10), alpha=0.75)\n",
    "plt.xlabel('Image minus Deconvolved')\n",
    "plt.ylabel('Pixel Count')\n",
    "plt.title('Deconvolution Methods')\n",
    "plt.axis([-10,10,0,900000])\n",
    "plt.ticklabel_format(style='sci', axis='y')\n",
    "plt.text(3,200000, 'Wiener-Hunt', color='darkorange', weight='bold')\n",
    "plt.text(-7,600000, 'Richardson-Lucy (SSW)', color='steelblue', weight='bold')\n",
    "plt.show()"
   ]
  }
 ],
 "metadata": {
  "kernelspec": {
   "display_name": "Python 2",
   "language": "python",
   "name": "python2"
  },
  "language_info": {
   "codemirror_mode": {
    "name": "ipython",
    "version": 2
   },
   "file_extension": ".py",
   "mimetype": "text/x-python",
   "name": "python",
   "nbconvert_exporter": "python",
   "pygments_lexer": "ipython2",
   "version": "2.7.6"
  }
 },
 "nbformat": 4,
 "nbformat_minor": 0
}
