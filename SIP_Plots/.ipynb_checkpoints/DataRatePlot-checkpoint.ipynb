{
 "cells": [
  {
   "cell_type": "markdown",
   "metadata": {},
   "source": [
    "# Data Rate Stack Plot"
   ]
  },
  {
   "cell_type": "code",
   "execution_count": 2,
   "metadata": {
    "collapsed": false
   },
   "outputs": [],
   "source": [
    "import numpy as np           \n",
    "import matplotlib.pyplot as plt\n",
    "import os\n",
    "import fnmatch\n",
    "import astropy.units as u\n",
    "from astropy.time import Time\n",
    "from sunpy.time import parse_time\n",
    "from astropy.table import Table\n",
    "import pandas as pd\n",
    "import matplotlib\n",
    "import matplotlib.dates as mdates\n",
    "import matplotlib.patches as mpatches\n",
    "%matplotlib inline  "
   ]
  },
  {
   "cell_type": "code",
   "execution_count": 3,
   "metadata": {
    "collapsed": true
   },
   "outputs": [],
   "source": [
    "mission=['SPP', 'SO','DKIST', 'SDO', 'SOLIS', 'STEREO', 'HINODE', 'IRIS', 'RHESSI', 'SOHO', 'GONG', 'TRACE', 'YOHKOH']"
   ]
  },
  {
   "cell_type": "code",
   "execution_count": 39,
   "metadata": {
    "collapsed": false
   },
   "outputs": [],
   "source": [
    "begin_date=Time(['2019-01-01 00:00:00', '2019-03-01 00:00:00', '2019-05-01 00:00:00', '2010-04-01 00:00:00', '2004-01-01 00:00:00','2006-09-01 00:00:00','2006-06-01 00:00:00','2013-07-01 00:00:00','2002-02-01 00:00:00','1996-01-01 00:00:00', '2001-07-01 00:00:00','1998-02-01 00:00:00','1991-09-01 00:00:00'],scale='utc') "
   ]
  },
  {
   "cell_type": "code",
   "execution_count": 40,
   "metadata": {
    "collapsed": false
   },
   "outputs": [
    {
     "name": "stderr",
     "output_type": "stream",
     "text": [
      "WARNING: ErfaWarning: ERFA function \"dtf2d\" yielded 11 of \"dubious year (Note 6)\" [astropy._erfa.core]\n"
     ]
    }
   ],
   "source": [
    "end_date=Time(['2029-01-01 00:00:00', '2029-03-01 00:00:00', '2035-01-01 00:00:00', '2025-04-01 00:00:00', '2035-01-01 00:00:00','2021-09-01 00:00:00','2021-06-01 00:00:00','2023-07-01 00:00:00','2022-02-01 00:00:00','2021-01-01 00:00:00', '2035-01-01 00:00:00','2010-06-01 00:00:00','2001-12-01 00:00:00'], scale='utc')"
   ]
  },
  {
   "cell_type": "code",
   "execution_count": null,
   "metadata": {
    "collapsed": true
   },
   "outputs": [],
   "source": []
  },
  {
   "cell_type": "code",
   "execution_count": 31,
   "metadata": {
    "collapsed": false
   },
   "outputs": [],
   "source": [
    "data_rate=np.array([0.8, 0.8, 15000, 3000, 43, 10, 7.8, 22.5, 1.8, 1, 2.418, 0.37, 1])*1e9*u.byte/u.day"
   ]
  },
  {
   "cell_type": "code",
   "execution_count": 37,
   "metadata": {
    "collapsed": false
   },
   "outputs": [
    {
     "data": {
      "text/latex": [
       "$1.6 \\times 10^{9} \\; \\mathrm{bit}$"
      ],
      "text/plain": [
       "<Quantity 1600000000.0 bit>"
      ]
     },
     "execution_count": 37,
     "metadata": {},
     "output_type": "execute_result"
    }
   ],
   "source": [
    "(data_rate[1]*(6*u.hour)).decompose()"
   ]
  },
  {
   "cell_type": "code",
   "execution_count": 38,
   "metadata": {
    "collapsed": false
   },
   "outputs": [
    {
     "name": "stderr",
     "output_type": "stream",
     "text": [
      "ERROR: AttributeError: type object 'Time' has no attribute 'TimeDelta' [IPython.core.interactiveshell]\n"
     ]
    },
    {
     "ename": "AttributeError",
     "evalue": "type object 'Time' has no attribute 'TimeDelta'",
     "output_type": "error",
     "traceback": [
      "\u001b[0;31m---------------------------------------------------------------------------\u001b[0m",
      "\u001b[0;31mAttributeError\u001b[0m                            Traceback (most recent call last)",
      "\u001b[0;32m<ipython-input-38-35acc6ec4317>\u001b[0m in \u001b[0;36m<module>\u001b[0;34m()\u001b[0m\n\u001b[0;32m----> 1\u001b[0;31m \u001b[0mTime\u001b[0m\u001b[0;34m.\u001b[0m\u001b[0mTimeDelta\u001b[0m\u001b[0;34m\u001b[0m\u001b[0m\n\u001b[0m",
      "\u001b[0;31mAttributeError\u001b[0m: type object 'Time' has no attribute 'TimeDelta'"
     ]
    }
   ],
   "source": [
    "Time.TimeDelta"
   ]
  },
  {
   "cell_type": "code",
   "execution_count": null,
   "metadata": {
    "collapsed": true
   },
   "outputs": [],
   "source": []
  }
 ],
 "metadata": {
  "anaconda-cloud": {},
  "kernelspec": {
   "display_name": "Python [Root]",
   "language": "python",
   "name": "Python [Root]"
  },
  "language_info": {
   "codemirror_mode": {
    "name": "ipython",
    "version": 3
   },
   "file_extension": ".py",
   "mimetype": "text/x-python",
   "name": "python",
   "nbconvert_exporter": "python",
   "pygments_lexer": "ipython3",
   "version": "3.5.2"
  }
 },
 "nbformat": 4,
 "nbformat_minor": 0
}
